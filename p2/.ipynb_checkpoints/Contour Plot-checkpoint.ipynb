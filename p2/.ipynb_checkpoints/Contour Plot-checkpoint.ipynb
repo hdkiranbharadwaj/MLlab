{
 "cells": [
  {
   "cell_type": "code",
   "execution_count": null,
   "id": "ee225152",
   "metadata": {},
   "outputs": [],
   "source": [
    "# Contour Plot\n",
    "import matplotlib.pyplot as plt\n",
    "import pandas as pd\n",
    "import numpy as np\n",
    "\n",
    "dataset = pd.read_csv('./ToyotaCorolla.csv')\n",
    "x = dataset['KM']\n",
    "y = dataset['Weight']\n",
    "z = dataset['Price']\n",
    "\n",
    "plt.tricontourf(x, y, z, levels=20, cmap='jet')\n",
    "plt.colorbar(label='Price')\n",
    "plt.xlabel('KM')\n",
    "plt.ylabel('Weight')\n",
    "plt.title('Contour Plot')\n",
    "plt.show()"
   ]
  }
 ],
 "metadata": {
  "kernelspec": {
   "display_name": "Python 3 (ipykernel)",
   "language": "python",
   "name": "python3"
  },
  "language_info": {
   "codemirror_mode": {
    "name": "ipython",
    "version": 3
   },
   "file_extension": ".py",
   "mimetype": "text/x-python",
   "name": "python",
   "nbconvert_exporter": "python",
   "pygments_lexer": "ipython3",
   "version": "3.10.9"
  }
 },
 "nbformat": 4,
 "nbformat_minor": 5
}
