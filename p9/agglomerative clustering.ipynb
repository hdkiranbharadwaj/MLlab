{
 "cells": [
  {
   "cell_type": "code",
   "execution_count": null,
   "id": "ee738824",
   "metadata": {},
   "outputs": [],
   "source": [
    "import numpy as np\n",
    "import matplotlib.pyplot as plt\n",
    "from scipy.cluster.hierarchy import dendrogram, linkage\n",
    "from sklearn.datasets import load_iris\n",
    "\n",
    "iris = load_iris()\n",
    "data = iris.data[:6]\n",
    "\n",
    "def proximity_matrix(data):\n",
    "  n = data.shape[0]\n",
    "  proximity_matrix = np.zeros((n, n))\n",
    "  for i in range(n):\n",
    "    for j in range(i+1, n):\n",
    "        proximity_matrix[i, j] = np.linalg.norm(data[i] - data[j])\n",
    "        proximity_matrix[j, i] = proximity_matrix[i, j]\n",
    "  return proximity_matrix\n",
    "\n",
    "def plot_dendrogram(data, method):\n",
    "  linkage_matrix = linkage(data, method=method)\n",
    "  dendrogram(linkage_matrix)\n",
    "  plt.title(f'Dendrogram - {method} linkage')\n",
    "  plt.xlabel('Data Points')\n",
    "  plt.ylabel('Distance')\n",
    "  plt.show()\n",
    "\n",
    "# Calculate the proximity matrix\n",
    "print(\"Proximity matrix:\")\n",
    "print(proximity_matrix(data))\n",
    "\n",
    "# Plot the dendrogram using single-linkage\n",
    "plot_dendrogram(data, 'single')\n",
    "\n",
    "# Plot the dendrogram using complete-linkage\n",
    "plot_dendrogram(data, 'complete')"
   ]
  }
 ],
 "metadata": {
  "kernelspec": {
   "display_name": "Python 3 (ipykernel)",
   "language": "python",
   "name": "python3"
  },
  "language_info": {
   "codemirror_mode": {
    "name": "ipython",
    "version": 3
   },
   "file_extension": ".py",
   "mimetype": "text/x-python",
   "name": "python",
   "nbconvert_exporter": "python",
   "pygments_lexer": "ipython3",
   "version": "3.10.9"
  }
 },
 "nbformat": 4,
 "nbformat_minor": 5
}
