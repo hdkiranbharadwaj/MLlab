{
 "cells": [
  {
   "cell_type": "code",
   "execution_count": 1,
   "id": "7272982a",
   "metadata": {},
   "outputs": [
    {
     "name": "stdout",
     "output_type": "stream",
     "text": [
      "Optimal value: 3\n",
      "Optimal path: [0, 0, 3]\n"
     ]
    }
   ],
   "source": [
    "class Tree:\n",
    "    def __init__(self,value,children=[]):\n",
    "        self.value=value\n",
    "        self.children=children\n",
    "\n",
    "game_tree=Tree(0,\n",
    "[\n",
    "    Tree(0,\n",
    "    [Tree(3),Tree(12)]\n",
    "    ),\n",
    "    Tree(0,\n",
    "    [Tree(8),Tree(2)]\n",
    "    ),\n",
    "])\n",
    "\n",
    "def minmax(tree,depth,alpha,beta,max_player):\n",
    "    if(depth==0 or not tree.children):\n",
    "        return tree.value,[tree.value]\n",
    "    if(max_player):\n",
    "        max_value=float(\"-inf\")\n",
    "        max_path=[]\n",
    "        for child in tree.children:\n",
    "            child_value,child_path=minmax(child,depth-1,alpha,beta,False)\n",
    "            if(child_value>max_value):\n",
    "                max_value=child_value\n",
    "                max_path=[tree.value]+child_path\n",
    "            alpha=max(alpha,max_value)\n",
    "            if(alpha>=beta):\n",
    "                break\n",
    "        return max_value,max_path\n",
    "    else:\n",
    "        min_value = float(\"inf\")\n",
    "        min_path = []\n",
    "        for child_node in tree.children:\n",
    "            child_value, child_path = minmax(child_node, depth - 1, alpha, beta, True)\n",
    "            if child_value < min_value:\n",
    "                min_value = child_value\n",
    "                min_path = [tree.value] + child_path\n",
    "            beta = min(beta, min_value)\n",
    "            if alpha >= beta:\n",
    "                break\n",
    "        return min_value, min_path\n",
    "\n",
    "optimal_value, optimal_path = minmax(game_tree, 2, float(\"-inf\"), float(\"inf\"), True)\n",
    "print(\"Optimal value:\", optimal_value)\n",
    "print(\"Optimal path:\", optimal_path)"
   ]
  },
  {
   "cell_type": "code",
   "execution_count": null,
   "id": "35e1b2c9",
   "metadata": {},
   "outputs": [],
   "source": []
  }
 ],
 "metadata": {
  "kernelspec": {
   "display_name": "Python 3 (ipykernel)",
   "language": "python",
   "name": "python3"
  },
  "language_info": {
   "codemirror_mode": {
    "name": "ipython",
    "version": 3
   },
   "file_extension": ".py",
   "mimetype": "text/x-python",
   "name": "python",
   "nbconvert_exporter": "python",
   "pygments_lexer": "ipython3",
   "version": "3.10.9"
  }
 },
 "nbformat": 4,
 "nbformat_minor": 5
}
