{
 "cells": [
  {
   "cell_type": "code",
   "execution_count": 1,
   "id": "e81a4d18",
   "metadata": {},
   "outputs": [
    {
     "name": "stdout",
     "output_type": "stream",
     "text": [
      "8\n",
      "[0, 0, 8]\n"
     ]
    }
   ],
   "source": [
    "class Tree:\n",
    "    def __init__(self,value,children=[]):\n",
    "        self.value=value\n",
    "        self.children=children\n",
    "\n",
    "game_tree=Tree(0,\n",
    "[\n",
    "    Tree(0,\n",
    "    [Tree(3),Tree(12)]\n",
    "    ),\n",
    "    Tree(0,\n",
    "    [Tree(8),Tree(2)]\n",
    "    ),\n",
    "])\n",
    "\n",
    "def minmax(tree,depth,max_player):\n",
    "    if(depth==0 or not tree.children):\n",
    "        return tree.value,[tree.value]\n",
    "    if(max_player):\n",
    "        max_value=float(\"-inf\")\n",
    "        max_path=[]\n",
    "        for child in tree.children:\n",
    "            child_value,child_path=minmax(child,depth-1,False)\n",
    "            if(child_value>max_value):\n",
    "                max_value=child_value\n",
    "                max_path=[tree.value]+child_path\n",
    "        return max_value,max_path\n",
    "    else:\n",
    "        min_value=float(\"inf\")\n",
    "        min_path=[]\n",
    "        for child in tree.children:\n",
    "            child_value,child_path=minmax(child,depth-1,True)\n",
    "            if(child_value<min_value):\n",
    "                min_value=child_value\n",
    "                min_path=[tree.value]+child_path\n",
    "        return min_value,min_path\n",
    "\n",
    "val,path=minmax(game_tree,2,False)\n",
    "print(val)\n",
    "print(path)"
   ]
  },
  {
   "cell_type": "code",
   "execution_count": null,
   "id": "1a3e2034",
   "metadata": {},
   "outputs": [],
   "source": []
  }
 ],
 "metadata": {
  "kernelspec": {
   "display_name": "Python 3 (ipykernel)",
   "language": "python",
   "name": "python3"
  },
  "language_info": {
   "codemirror_mode": {
    "name": "ipython",
    "version": 3
   },
   "file_extension": ".py",
   "mimetype": "text/x-python",
   "name": "python",
   "nbconvert_exporter": "python",
   "pygments_lexer": "ipython3",
   "version": "3.10.9"
  }
 },
 "nbformat": 4,
 "nbformat_minor": 5
}
