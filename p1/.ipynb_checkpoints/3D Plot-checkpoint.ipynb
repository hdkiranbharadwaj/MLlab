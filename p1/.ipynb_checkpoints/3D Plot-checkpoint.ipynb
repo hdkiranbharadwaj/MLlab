{
 "cells": [
  {
   "cell_type": "code",
   "execution_count": null,
   "id": "515a0204",
   "metadata": {},
   "outputs": [],
   "source": [
    "# 3D Plot\n",
    "import pandas as pd\n",
    "import matplotlib.pyplot as plt\n",
    "\n",
    "dataset = pd.read_csv('./ToyotaCorolla.csv')\n",
    "x = dataset['KM']\n",
    "y = dataset['Doors']\n",
    "z = dataset['Price']\n",
    "\n",
    "ax = plt.axes(projection='3d')\n",
    "ax.plot_trisurf(x,y,z,cmap=\"jet\")\n",
    "ax.set_title(\"3D Surface Plot\")\n",
    "\n",
    "plt.show()"
   ]
  }
 ],
 "metadata": {
  "kernelspec": {
   "display_name": "Python 3 (ipykernel)",
   "language": "python",
   "name": "python3"
  },
  "language_info": {
   "codemirror_mode": {
    "name": "ipython",
    "version": 3
   },
   "file_extension": ".py",
   "mimetype": "text/x-python",
   "name": "python",
   "nbconvert_exporter": "python",
   "pygments_lexer": "ipython3",
   "version": "3.10.9"
  }
 },
 "nbformat": 4,
 "nbformat_minor": 5
}
